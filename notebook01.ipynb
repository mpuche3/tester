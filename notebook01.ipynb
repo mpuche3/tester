{
 "cells": [
  {
   "cell_type": "code",
   "execution_count": 3,
   "metadata": {},
   "outputs": [],
   "source": [
    "import os\n",
    "import json"
   ]
  },
  {
   "cell_type": "code",
   "execution_count": null,
   "metadata": {},
   "outputs": [
    {
     "name": "stdout",
     "output_type": "stream",
     "text": [
      "C001.json\n",
      "Famous.json\n",
      "C002.json\n",
      "ALL.json\n",
      "History.json\n",
      "battles.json\n",
      "questions001.json\n",
      "TheGloriousRevolution.json\n",
      "dates__text.json\n",
      "questions002.json\n",
      "TheRestauration.json\n",
      "dates.json\n",
      "questions000.json\n",
      "difficult.json\n"
     ]
    }
   ],
   "source": [
    "path_QUESTION = os.path.join(\".\", \"data\", \"questions\")\n",
    "assert os.path.exists(path_QUESTION)\n",
    "filenames = os.listdir(path_QUESTION)\n",
    "\n",
    "for filename in filenames:\n",
    "    print(filename)\n",
    "    "
   ]
  },
  {
   "cell_type": "code",
   "execution_count": 8,
   "metadata": {},
   "outputs": [
    {
     "data": {
      "text/plain": [
       "['In what year did the first Jews settle in Britain since the Middle Ages?',\n",
       " 'The first Jews to come to Britain since the Middle Ages settled in London in 1656.',\n",
       " 'Where did the first Jews to come to Britain since the Middle Ages settle?',\n",
       " 'The first Jews to come to Britain since the Middle Ages settled in London in 1656.',\n",
       " 'When did William of Orange invade England?',\n",
       " 'In 1688, important Protestants in England asked William to invade England and proclaim himself king. When William reached England, there was no resistance.',\n",
       " 'How long does Diwali normally last for?',\n",
       " 'Diwali normally falls in October or November and lasts for five days. It is often called the Festival of Lights. It is celebrated by Hindus and Sikhs. It celebrates the victory of good over evil and the gaining of knowledge.',\n",
       " 'How often are the members of the Welsh Assembly (AMs) elected?',\n",
       " 'xx',\n",
       " 'By which year did the English rule an area around Dublin called the Pale?',\n",
       " 'By 1200, the English ruled an area of Ireland known as the Pale, around Dublin.',\n",
       " 'How many times did Sir Jackie Stewart win the Formula 1 championship?',\n",
       " 'Sir Jackie Stewart is a Scottish former racing driver who won the Formula 1 world championship three times.',\n",
       " 'When was King Charles III born?',\n",
       " 'King Charles III was born on November 14, 1948.',\n",
       " 'Famous British author:',\n",
       " 'It was also a time of cultural blossoming, with writers such as Graham Greene and Evelyn Waugh prominent.',\n",
       " 'Famous British author',\n",
       " 'Thomas Hardy (1840–1928) was an author and poet. His best-known novels focus on rural society and include Far from the Madding Crowd and Jude the Obscure.',\n",
       " \"Famous British Composer whose work includes 'The Planets'\",\n",
       " 'More recently, important composers include Gustav Holst (1874–1934), whose work includes The Planets, a suite of pieces themed around the planets of the solar system.',\n",
       " 'Famous British Designer',\n",
       " 'Leading fashion designers of recent years include Mary Quant, Alexander McQueen and Vivienne Westwood.',\n",
       " 'Famous British Designer',\n",
       " 'Leading fashion designers of recent years include Mary Quant, Alexander McQueen and Vivienne Westwood.',\n",
       " 'Famous British Designer',\n",
       " 'Leading fashion designers of recent years include Mary Quant, Alexander McQueen and Vivienne Westwood.',\n",
       " 'Famous British Poet whose novels were focused on rural society',\n",
       " 'Thomas Hardy (1840–1928) was an author and poet. His best-known novels focus on rural society and include Far from the Madding Crowd and Jude the Obscure.',\n",
       " 'Where does the Scottish Grand National take place?',\n",
       " 'Royal Ascot, a five-day race meeting in Berkshire attended by members of the Royal Family. The Grand National at Aintree near Liverpool. And the Scottish Grand National at Ayr. There is a National Horseracing Museum in Newmarket, Suffolk.',\n",
       " 'What were William Blake, Lord Byron and Robert Browning?',\n",
       " 'Poetry was very popular in the 19th century, with poets such as William Blake, John Keats, Lord Byron, Percy Shelley, Alfred Lord Tennyson, and Robert and Elizabeth Browning.',\n",
       " \"The Bill of Right confirmed the rights of Parliament and the limits of The Kings's power. What year was approved?\",\n",
       " 'Britain has a long history of respecting an individual’s rights and ensuring essential freedoms. These rights have their roots in Magna Carta (1215), the Habeas Corpus Act (1679) and the Bill of Rights of 1689, and they have developed over a period of time.',\n",
       " 'Which of these athletes is a Paralympian who won gold medals for swimming?',\n",
       " 'Ellie Simmonds (1994) is a Paralympian who won gold medals for swimming at the 2008 and 2012 Paralympic Games and holds a number of world records. She was the youngest member of the British team at the 2008 Games.',\n",
       " 'Which of these athletes is a Paralympian who is an athlete who uses a wheelchair and won 16 Paralympic medals, including 11 gold medals?',\n",
       " 'Baroness Tanni-Grey Thompson (1969–) is an athlete who uses a wheelchair and won 16 Paralympic medals, including 11 gold medals, in races over five Paralympic ',\n",
       " 'Who won the 2012 Olympic gold medal in the heptathlon?',\n",
       " 'Jessica Ennis (1986) is an athlete. She won the 2012 Olympic gold medal in the heptathlon, which includes seven different track and field events. She also holds a number of British athletics records.',\n",
       " 'Who uses a wheelchair and won the London Marathon six times?',\n",
       " 'David Weir (1979–) is a Paralympian who uses a wheelchair and has won six gold medals over two Paralympic Games. He has also won the London Marathon six times.',\n",
       " 'The first Briton to win the Tour de France',\n",
       " 'Bradley Wiggins (1980–) is a cyclist. In 2012, he became the first Briton to win the Tour de France. He has won seven Olympic medals, including gold medals in the 2004, 2008 and 2012 Olympic Games.',\n",
       " \"What's Ridley Scott?\",\n",
       " 'During the Second World War, British movies (for example, In Which We Serve) played an important part in boosting morale. Later, British directors including Sir David Lean and Ridley Scott found great success both in the UK and internationally.',\n",
       " \"What's Thomas Gainsborough\",\n",
       " 'Thomas Gainsborough (1727–88) was a portrait painter who often painted people in country or garden scenery.',\n",
       " 'Who wrote satirical novels, including Decline and Fall and Scoop',\n",
       " 'Evelyn Waugh (1903–66) wrote satirical novels, including Decline and Fall and Scoop. He is perhaps best known for Brideshead Revisited.',\n",
       " 'Who wrote the Pomp and Circumstance Marches?',\n",
       " 'Sir Edward Elgar (1857–1934) was born in Worcester, England. His best-known work is probably the Pomp and Circumstance Marches. March No 1 (Land of Hope and Glory) is usually played at the Last Night of the Proms at the Royal Albert Hall.',\n",
       " 'What king died in battle against Henry Tudor?',\n",
       " 'King Richard III of the House of York was killed in the battle and Henry Tudor, the leader of the House of Lancaster, became King Henry VII.',\n",
       " 'Who wrote about his experience in the First World War?',\n",
       " 'Poetry was very popular in the 19th century, with poets such as William Blake, John Keats, Lord Byron, Percy Shelley, Alfred Lord Tennyson, and Robert and Elizabeth Browning. Later, many poets – for example, Wilfred Owen and Siegfried Sassoon – were inspired to write about their experiences in the First World War.',\n",
       " 'Who wrote about his experience in the First World War?',\n",
       " 'Poetry was very popular in the 19th century, with poets such as William Blake, John Keats, Lord Byron, Percy Shelley, Alfred Lord Tennyson, and Robert and Elizabeth Browning. Later, many poets – for example, Wilfred Owen and Siegfried Sassoon – were inspired to write about their experiences in the First World War.',\n",
       " 'What was William Blake?',\n",
       " 'Poetry was very popular in the 19th century, with poets such as William Blake, John Keats, Lord Byron, Percy Shelley, Alfred Lord Tennyson, and Robert and Elizabeth Browning. Later, many poets – for example, Wilfred Owen and Siegfried Sassoon – were inspired to write about their experiences in the First World War.',\n",
       " 'Who can stand for office as an MP?',\n",
       " 'You may also be able to stand for Office if you are an Irish citizen, an eligible Commonwealth citizen or (except for standing to be an MP) a citizen of another EU country.',\n",
       " 'Who can stand for office as a Local Councillor?',\n",
       " 'You may also be able to stand for Office if you are an Irish citizen, an eligible Commonwealth citizen or (except for standing to be an MP) a citizen of another EU country.',\n",
       " 'Who co-discovered insulin?',\n",
       " 'The Scottish physician and researcher John MacLeod (1876–1935) was the co-discoverer of insulin, used to treat diabetes.',\n",
       " 'Who co-discovered the structure of the DNA molecule?',\n",
       " 'The structure of the DNA molecule was discovered in 1953 through work at British universities in London and Cambridge. This discovery contributed to many scientific advances, particularly in medicine and fighting crime. Francis Crick (1916-2004), one of those awarded the Nobel Prize for this discovery, was British.',\n",
       " 'Battle lost by Charles I',\n",
       " \"The king's army was defeated at the Battles of Marston Moor and Naseby. By 1646, it was clear that Parliament had won the war. Charles was held prisoner by the parliamentary army. He was still unwilling to reach any agreement with Parliament and in 1649 he was executed.\",\n",
       " 'Battle lost by Charles I',\n",
       " \"The king's army was defeated at the Battles of Marston Moor and Naseby. By 1646, it was clear that Parliament had won the war. Charles was held prisoner by the parliamentary army. He was still unwilling to reach any agreement with Parliament and in 1649 he was executed.\",\n",
       " 'What battle was fought in 1746?',\n",
       " 'In 1745 there was another attempt to put a Stuart king back on the throne in place of George I’s son, George II. Charles Edward Stuart (Bonnie Prince Charlie), the grandson of James II, landed in Scotland. He was supported by clansmen from the Scottish highlands and raised an army. Charles initially had some successes but was defeated by George II’s army at the Battle of Culloden in 1746. Charles escaped back to Europe.',\n",
       " 'What battle ended the War of the Roses?',\n",
       " 'The war ended with the Battle of Bosworth Field in 1485. King Richard III of the House of York was killed in the battle and Henry Tudor, the leader of the House of Lancaster, became King Henry VII.',\n",
       " 'Who wrote HMS Pinafore, The Pirates of Penzance, and The Mikado?',\n",
       " 'In the 19th century, Gilbert and Sullivan wrote comic operas, often making fun of popular culture and politics. These operas include HMS Pinafore, The Pirates of Penzance, and The Mikado.',\n",
       " 'Which battle in 1690 marked a key Protestant victory over the Catholic forces of King James II?',\n",
       " \"The Battle of the Boyne, fought on July 1, 1690, near the River Boyne in Ireland, was a conflict between the Protestant King William III of England and the deposed Catholic King James II. It was part of a broader struggle for power in Ireland and Britain. William's forces defeated James's, securing Protestant rule in Ireland and solidifying William's position on the English throne.\",\n",
       " 'What battle forced all Scottish clans to formally accept William as king by taking an oath?',\n",
       " 'There was also support for James in Scotland. An attempt at an armed rebellion in support of James was quickly defeated at Killiecrankie. All Scottish clans were required formally to accept William as king by taking an oath. The MacDonalds of Glencoe were late in taking the oath and were all killed.',\n",
       " 'What was the name of the final battle of the 1745 Jacobite Rising?',\n",
       " 'In 1745 there was another attempt to put a Stuart king back on the throne in place of George I’s son, George II. Charles Edward Stuart (Bonnie Prince Charlie), the grandson of James II, landed in Scotland. He was supported by clansmen from the Scottish highlands and raised an army. Charles initially had some successes but was defeated by George II’s army at the Battle of Culloden in 1746. The clans lost a lot of their power and influence after Culloden.',\n",
       " 'xx',\n",
       " 'xx']"
      ]
     },
     "execution_count": 8,
     "metadata": {},
     "output_type": "execute_result"
    }
   ],
   "source": [
    "sentences = []\n",
    "path = os.path.join(path_QUESTION, \"questions000.json\")\n",
    "with open(path, \"r\") as file:\n",
    "    data = json.load(file)\n",
    "\n",
    "for item in data:\n",
    "    # print(item[\"Question\"])\n",
    "    # print(item[\"Explanation\"])\n",
    "    sentences.append(item[\"Question\"])\n",
    "    sentences.append(item[\"Explanation\"])\n",
    "\n",
    "sentences"
   ]
  },
  {
   "cell_type": "code",
   "execution_count": null,
   "metadata": {},
   "outputs": [],
   "source": []
  }
 ],
 "metadata": {
  "kernelspec": {
   "display_name": "Python 3",
   "language": "python",
   "name": "python3"
  },
  "language_info": {
   "codemirror_mode": {
    "name": "ipython",
    "version": 3
   },
   "file_extension": ".py",
   "mimetype": "text/x-python",
   "name": "python",
   "nbconvert_exporter": "python",
   "pygments_lexer": "ipython3",
   "version": "3.12.1"
  }
 },
 "nbformat": 4,
 "nbformat_minor": 2
}
