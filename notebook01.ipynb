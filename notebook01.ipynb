{
 "cells": [
  {
   "cell_type": "code",
   "execution_count": 2,
   "metadata": {},
   "outputs": [],
   "source": [
    "import os\n",
    "import json\n",
    "\n",
    "def save_sentences():\n",
    "    sentences = []\n",
    "    path_QUESTION = os.path.join(\".\", \"data\", \"questions\")\n",
    "    assert os.path.exists(path_QUESTION)\n",
    "    filenames = os.listdir(\"./data/questions\")\n",
    "    for filename in filenames:\n",
    "        path = os.path.join(path_QUESTION, filename)\n",
    "        assert os.path.exists(path)\n",
    "        with open(path, \"r\") as file:\n",
    "            data = json.load(file)\n",
    "        for item in data:\n",
    "            sentences.append(item[\"Question\"])\n",
    "            sentences.append(item[\"Explanation\"])\n",
    "    sentences = [sentence.strip() for sentence in sentences if sentence.strip() != \"\"]\n",
    "    sentences = list(set(sentences))\n",
    "    file_path = os.path.join(\".\", \"data\", \"sentences\", \"sentences.json\")\n",
    "    with open(file_path, \"w\") as json_file:\n",
    "        json.dump(sentences, json_file, indent=4)\n",
    "    return sentences\n",
    "\n",
    "# save_sentences()"
   ]
  },
  {
   "cell_type": "code",
   "execution_count": 6,
   "metadata": {},
   "outputs": [
    {
     "data": {
      "text/plain": [
       "4328"
      ]
     },
     "execution_count": 6,
     "metadata": {},
     "output_type": "execute_result"
    }
   ],
   "source": [
    "data = []\n",
    "path_QUESTION = os.path.join(\".\", \"data\", \"questions\")\n",
    "assert os.path.exists(path_QUESTION)\n",
    "filenames = os.listdir(\"./data/questions\")\n",
    "for filename in filenames:\n",
    "    path = os.path.join(path_QUESTION, filename)\n",
    "    assert os.path.exists(path)\n",
    "    with open(path, \"r\") as file:\n",
    "        data = data + json.load(file)\n",
    "    \n",
    "len(data)"
   ]
  }
 ],
 "metadata": {
  "kernelspec": {
   "display_name": "Python 3",
   "language": "python",
   "name": "python3"
  },
  "language_info": {
   "codemirror_mode": {
    "name": "ipython",
    "version": 3
   },
   "file_extension": ".py",
   "mimetype": "text/x-python",
   "name": "python",
   "nbconvert_exporter": "python",
   "pygments_lexer": "ipython3",
   "version": "3.12.1"
  }
 },
 "nbformat": 4,
 "nbformat_minor": 2
}
